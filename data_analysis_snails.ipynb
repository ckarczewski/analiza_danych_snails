{
 "cells": [
  {
   "cell_type": "code",
   "execution_count": 58,
   "id": "54e2f4a6",
   "metadata": {},
   "outputs": [],
   "source": [
    "# Analiza danych Abalone Data Set\n",
    "import warnings\n",
    "warnings.filterwarnings('ignore')\n"
   ]
  },
  {
   "cell_type": "markdown",
   "id": "f71b867f",
   "metadata": {},
   "source": [
    "Wykonał Kacper Durmaj 215712\n",
    "\n",
    "Zestaw danych został pobrany z UCI Machine Learning Repository\n",
    "\n",
    "Przewidywanie wieku abalone na podstawie pomiarów fizycznych. Wiek abalone określa się poprzez przecięcie muszli przez stożek, wybarwienie go, i liczenie liczby pierścieni pod mikroskopem — nudne i czasochłonne zadanie. Inne pomiary, które są łatwiejsze do uzyskania, również mogą służyć do przewidywania wieku. "
   ]
  },
  {
   "cell_type": "markdown",
   "id": "2a468ccb",
   "metadata": {},
   "source": [
    "Atrybuty <br>\n",
    "0   Sex<br>\n",
    "1   Length<br>\n",
    "2   Diameter<br>\n",
    "3   Height<br>\n",
    "4   Whole weight<br>\n",
    "5   Shucked weight<br>\n",
    "6   Viscera weight<br>\n",
    "7   Shell weight<br>\n",
    "8   Rings<br>"
   ]
  },
  {
   "cell_type": "markdown",
   "id": "f590383a",
   "metadata": {},
   "source": [
    "Wybór odpowiednich cech</br>\n",
    "Atrybutami wyjściowymi jest ilość kręgów, natomiast wartościami wejściowymi wszystkie atrybuty z wyjątkiem płci.\n",
    "</br></br>\n",
    "Rings - podlega predykcji</br>\n",
    "Sex - parametr zostaje usunięty ponieważ płeć nie jest pomiarem czysto fizycznym</br>\n",
    "Reszta atrybutów zostanie użyta jako parametry wejściowe</br>"
   ]
  },
  {
   "cell_type": "markdown",
   "id": "d8ac4242",
   "metadata": {},
   "source": [
    "Cel</br>\n",
    "W tej analizie rozwiąże problem przewidywania wieku Abalone przy pomocy regresii. Wiek odpowiada ilości kręgów na skorupie, ilość kręgów będzie przewidywana dzięki innym pomiarom dostepnych w bazie.</br> Użyję do tego metody drzewa decyzyjnego (eng. DecisionTree method).</br> \n"
   ]
  },
  {
   "cell_type": "code",
   "execution_count": 40,
   "id": "bcd1cba8",
   "metadata": {},
   "outputs": [],
   "source": [
    "# Import niezbędnych bibliotek wykorzystanych do obróbki danych\n",
    "import pandas as pd\n",
    "import numpy as np\n",
    "import matplotlib.pyplot as plt"
   ]
  },
  {
   "cell_type": "code",
   "execution_count": 41,
   "id": "8da172ab",
   "metadata": {},
   "outputs": [],
   "source": [
    "# Import danych\n",
    "data = pd.read_csv('abalone.data', header=None)"
   ]
  },
  {
   "cell_type": "code",
   "execution_count": 42,
   "id": "800c3bec",
   "metadata": {},
   "outputs": [
    {
     "data": {
      "text/html": [
       "<div>\n",
       "<style scoped>\n",
       "    .dataframe tbody tr th:only-of-type {\n",
       "        vertical-align: middle;\n",
       "    }\n",
       "\n",
       "    .dataframe tbody tr th {\n",
       "        vertical-align: top;\n",
       "    }\n",
       "\n",
       "    .dataframe thead th {\n",
       "        text-align: right;\n",
       "    }\n",
       "</style>\n",
       "<table border=\"1\" class=\"dataframe\">\n",
       "  <thead>\n",
       "    <tr style=\"text-align: right;\">\n",
       "      <th></th>\n",
       "      <th>0</th>\n",
       "      <th>1</th>\n",
       "      <th>2</th>\n",
       "      <th>3</th>\n",
       "      <th>4</th>\n",
       "      <th>5</th>\n",
       "      <th>6</th>\n",
       "      <th>7</th>\n",
       "      <th>8</th>\n",
       "    </tr>\n",
       "  </thead>\n",
       "  <tbody>\n",
       "    <tr>\n",
       "      <th>0</th>\n",
       "      <td>M</td>\n",
       "      <td>0.455</td>\n",
       "      <td>0.365</td>\n",
       "      <td>0.095</td>\n",
       "      <td>0.5140</td>\n",
       "      <td>0.2245</td>\n",
       "      <td>0.1010</td>\n",
       "      <td>0.150</td>\n",
       "      <td>15</td>\n",
       "    </tr>\n",
       "    <tr>\n",
       "      <th>1</th>\n",
       "      <td>M</td>\n",
       "      <td>0.350</td>\n",
       "      <td>0.265</td>\n",
       "      <td>0.090</td>\n",
       "      <td>0.2255</td>\n",
       "      <td>0.0995</td>\n",
       "      <td>0.0485</td>\n",
       "      <td>0.070</td>\n",
       "      <td>7</td>\n",
       "    </tr>\n",
       "    <tr>\n",
       "      <th>2</th>\n",
       "      <td>F</td>\n",
       "      <td>0.530</td>\n",
       "      <td>0.420</td>\n",
       "      <td>0.135</td>\n",
       "      <td>0.6770</td>\n",
       "      <td>0.2565</td>\n",
       "      <td>0.1415</td>\n",
       "      <td>0.210</td>\n",
       "      <td>9</td>\n",
       "    </tr>\n",
       "    <tr>\n",
       "      <th>3</th>\n",
       "      <td>M</td>\n",
       "      <td>0.440</td>\n",
       "      <td>0.365</td>\n",
       "      <td>0.125</td>\n",
       "      <td>0.5160</td>\n",
       "      <td>0.2155</td>\n",
       "      <td>0.1140</td>\n",
       "      <td>0.155</td>\n",
       "      <td>10</td>\n",
       "    </tr>\n",
       "    <tr>\n",
       "      <th>4</th>\n",
       "      <td>I</td>\n",
       "      <td>0.330</td>\n",
       "      <td>0.255</td>\n",
       "      <td>0.080</td>\n",
       "      <td>0.2050</td>\n",
       "      <td>0.0895</td>\n",
       "      <td>0.0395</td>\n",
       "      <td>0.055</td>\n",
       "      <td>7</td>\n",
       "    </tr>\n",
       "  </tbody>\n",
       "</table>\n",
       "</div>"
      ],
      "text/plain": [
       "   0      1      2      3       4       5       6      7   8\n",
       "0  M  0.455  0.365  0.095  0.5140  0.2245  0.1010  0.150  15\n",
       "1  M  0.350  0.265  0.090  0.2255  0.0995  0.0485  0.070   7\n",
       "2  F  0.530  0.420  0.135  0.6770  0.2565  0.1415  0.210   9\n",
       "3  M  0.440  0.365  0.125  0.5160  0.2155  0.1140  0.155  10\n",
       "4  I  0.330  0.255  0.080  0.2050  0.0895  0.0395  0.055   7"
      ]
     },
     "execution_count": 42,
     "metadata": {},
     "output_type": "execute_result"
    }
   ],
   "source": [
    "# Sprawdzenie pierwszych 5 rekordóww celu sprawdzenia czy dane zostały zaimportowane \n",
    "data.head()"
   ]
  },
  {
   "cell_type": "code",
   "execution_count": 43,
   "id": "d65ce2d4",
   "metadata": {},
   "outputs": [],
   "source": [
    "# Dodanie nazw kolumn które zostały wzięte z pliku abalone.names\n",
    "data.columns = [\n",
    "\"Sex\",\n",
    "\"Length\",\n",
    "\"Diameter\",\n",
    "\"Height\",\n",
    "\"Whole weight\",\n",
    "\"Shucked weight\",\n",
    "\"Viscera weight\",\n",
    "\"Shell weight\",\n",
    "\"Rings\",\n",
    "]"
   ]
  },
  {
   "cell_type": "code",
   "execution_count": 44,
   "id": "d3934d81",
   "metadata": {},
   "outputs": [
    {
     "data": {
      "text/html": [
       "<div>\n",
       "<style scoped>\n",
       "    .dataframe tbody tr th:only-of-type {\n",
       "        vertical-align: middle;\n",
       "    }\n",
       "\n",
       "    .dataframe tbody tr th {\n",
       "        vertical-align: top;\n",
       "    }\n",
       "\n",
       "    .dataframe thead th {\n",
       "        text-align: right;\n",
       "    }\n",
       "</style>\n",
       "<table border=\"1\" class=\"dataframe\">\n",
       "  <thead>\n",
       "    <tr style=\"text-align: right;\">\n",
       "      <th></th>\n",
       "      <th>Sex</th>\n",
       "      <th>Length</th>\n",
       "      <th>Diameter</th>\n",
       "      <th>Height</th>\n",
       "      <th>Whole weight</th>\n",
       "      <th>Shucked weight</th>\n",
       "      <th>Viscera weight</th>\n",
       "      <th>Shell weight</th>\n",
       "      <th>Rings</th>\n",
       "    </tr>\n",
       "  </thead>\n",
       "  <tbody>\n",
       "    <tr>\n",
       "      <th>0</th>\n",
       "      <td>M</td>\n",
       "      <td>0.455</td>\n",
       "      <td>0.365</td>\n",
       "      <td>0.095</td>\n",
       "      <td>0.5140</td>\n",
       "      <td>0.2245</td>\n",
       "      <td>0.1010</td>\n",
       "      <td>0.150</td>\n",
       "      <td>15</td>\n",
       "    </tr>\n",
       "    <tr>\n",
       "      <th>1</th>\n",
       "      <td>M</td>\n",
       "      <td>0.350</td>\n",
       "      <td>0.265</td>\n",
       "      <td>0.090</td>\n",
       "      <td>0.2255</td>\n",
       "      <td>0.0995</td>\n",
       "      <td>0.0485</td>\n",
       "      <td>0.070</td>\n",
       "      <td>7</td>\n",
       "    </tr>\n",
       "    <tr>\n",
       "      <th>2</th>\n",
       "      <td>F</td>\n",
       "      <td>0.530</td>\n",
       "      <td>0.420</td>\n",
       "      <td>0.135</td>\n",
       "      <td>0.6770</td>\n",
       "      <td>0.2565</td>\n",
       "      <td>0.1415</td>\n",
       "      <td>0.210</td>\n",
       "      <td>9</td>\n",
       "    </tr>\n",
       "    <tr>\n",
       "      <th>3</th>\n",
       "      <td>M</td>\n",
       "      <td>0.440</td>\n",
       "      <td>0.365</td>\n",
       "      <td>0.125</td>\n",
       "      <td>0.5160</td>\n",
       "      <td>0.2155</td>\n",
       "      <td>0.1140</td>\n",
       "      <td>0.155</td>\n",
       "      <td>10</td>\n",
       "    </tr>\n",
       "    <tr>\n",
       "      <th>4</th>\n",
       "      <td>I</td>\n",
       "      <td>0.330</td>\n",
       "      <td>0.255</td>\n",
       "      <td>0.080</td>\n",
       "      <td>0.2050</td>\n",
       "      <td>0.0895</td>\n",
       "      <td>0.0395</td>\n",
       "      <td>0.055</td>\n",
       "      <td>7</td>\n",
       "    </tr>\n",
       "  </tbody>\n",
       "</table>\n",
       "</div>"
      ],
      "text/plain": [
       "  Sex  Length  Diameter  Height  Whole weight  Shucked weight  Viscera weight  \\\n",
       "0   M   0.455     0.365   0.095        0.5140          0.2245          0.1010   \n",
       "1   M   0.350     0.265   0.090        0.2255          0.0995          0.0485   \n",
       "2   F   0.530     0.420   0.135        0.6770          0.2565          0.1415   \n",
       "3   M   0.440     0.365   0.125        0.5160          0.2155          0.1140   \n",
       "4   I   0.330     0.255   0.080        0.2050          0.0895          0.0395   \n",
       "\n",
       "   Shell weight  Rings  \n",
       "0         0.150     15  \n",
       "1         0.070      7  \n",
       "2         0.210      9  \n",
       "3         0.155     10  \n",
       "4         0.055      7  "
      ]
     },
     "execution_count": 44,
     "metadata": {},
     "output_type": "execute_result"
    }
   ],
   "source": [
    "# Sprawdzanie czy nazwy dodały się poprawnie\n",
    "data.head()"
   ]
  },
  {
   "cell_type": "code",
   "execution_count": 45,
   "id": "d91f6dee",
   "metadata": {},
   "outputs": [
    {
     "name": "stdout",
     "output_type": "stream",
     "text": [
      "<class 'pandas.core.frame.DataFrame'>\n",
      "RangeIndex: 4177 entries, 0 to 4176\n",
      "Data columns (total 9 columns):\n",
      " #   Column          Non-Null Count  Dtype  \n",
      "---  ------          --------------  -----  \n",
      " 0   Sex             4177 non-null   object \n",
      " 1   Length          4177 non-null   float64\n",
      " 2   Diameter        4177 non-null   float64\n",
      " 3   Height          4177 non-null   float64\n",
      " 4   Whole weight    4177 non-null   float64\n",
      " 5   Shucked weight  4177 non-null   float64\n",
      " 6   Viscera weight  4177 non-null   float64\n",
      " 7   Shell weight    4177 non-null   float64\n",
      " 8   Rings           4177 non-null   int64  \n",
      "dtypes: float64(7), int64(1), object(1)\n",
      "memory usage: 293.8+ KB\n"
     ]
    }
   ],
   "source": [
    "# Statystyki opisowe zbioru Abalone\n",
    "data.info()"
   ]
  },
  {
   "cell_type": "code",
   "execution_count": 46,
   "id": "04a6f211",
   "metadata": {},
   "outputs": [
    {
     "data": {
      "image/png": "[encoded data removed]",
      "text/plain": [
       "<Figure size 432x288 with 1 Axes>"
      ]
     },
     "metadata": {
      "needs_background": "light"
     },
     "output_type": "display_data"
    }
   ],
   "source": [
    "# Przedstawienie na wykresie zakresu wieku jaki mogą osiągnąć ślimaki\n",
    "# Wiek jest określany na podstawie ilośći kręgów, którą ślimaki mają na swoich skorupach\n",
    "# Najwięcej ślimaków w tym zestawie danych mają od 5 do 15 kręgów, lecz maksymalna ilość nie przekracza 25\n",
    "import matplotlib.pyplot as plt\n",
    "data[\"Rings\"].hist(bins=15)\n",
    "plt.show()\n"
   ]
  },
  {
   "cell_type": "code",
   "execution_count": 47,
   "id": "5b420c84",
   "metadata": {},
   "outputs": [],
   "source": [
    "# Usunięcie kolumny sex\n",
    "new_data = data.drop(\"Sex\", axis=1)"
   ]
  },
  {
   "cell_type": "code",
   "execution_count": 48,
   "id": "6a23f9b4",
   "metadata": {},
   "outputs": [],
   "source": [
    "# Przygotowywanie danych do regresjii\n",
    "# Dane zostały podzielone podzielone na testowe oraz treningowe w proporcajch 30% do 70%\n",
    "# Dane treningowe posłużą do uczenai modelu, natomiast dane testowe do sprawdzenia dokładności przewydywań. \n",
    "\n",
    "# Biblioteki sklearn oraz funkcja train_test_spli służąca do podzialu danych\n",
    "from sklearn.model_selection import train_test_split \n",
    "\n",
    "# Usunięcie kolumn Rings oraz przypisanie reszty danych do zmiennej features ktora posłóży jako zbiór wejściowy\n",
    "features = new_data.drop(['Rings'], axis=1) \n",
    "\n",
    "# Przypisanie wartości kolumny Rings do zmiennej target, która posłóży jako zbiór wyjściowy\n",
    "target = new_data['Rings']\n",
    "\n",
    "# Podział danych na treningowe i testowe\n",
    "x_train, x_test, y_train, y_test = train_test_split(features, target, test_size=0.3, random_state=69)"
   ]
  },
  {
   "cell_type": "code",
   "execution_count": 49,
   "id": "b3f8a499",
   "metadata": {},
   "outputs": [
    {
     "name": "stdout",
     "output_type": "stream",
     "text": [
      "Wynik modelu:\n",
      "Zestaw testowy: 0.446621\n",
      "Zestaw treningowy: 0.544293\n"
     ]
    }
   ],
   "source": [
    "# Biblioteka jest odpowiedzialna za metodę DecisionTreeRegressor\n",
    "from sklearn.tree import DecisionTreeRegressor\n",
    " \n",
    "# Stworzenie modelu DecisionTreeRegressor\n",
    "tree = DecisionTreeRegressor(max_depth=5)\n",
    "\n",
    "# Trenowanie modelu\n",
    "train = tree.fit(x_train, y_train)\n",
    "\n",
    "# Przewidywanie wyniku dla zestawu testującego\n",
    "y_prediction = tree.predict(x_test)\n",
    "\n",
    "# Ocena jakości wtrenowanego modelu\n",
    "print('Wynik modelu:')\n",
    "print('Zestaw testowy: %f' % train.score(x_test, y_test))\n",
    "print('Zestaw treningowy: %f' % train.score(x_train, y_train))"
   ]
  },
  {
   "cell_type": "code",
   "execution_count": 50,
   "id": "952fca94",
   "metadata": {},
   "outputs": [
    {
     "name": "stdout",
     "output_type": "stream",
     "text": [
      "Przewidywania  Prawdziwe\n",
      "10.619427      8.000000\n",
      "7.802120       8.000000\n",
      "9.069565       8.000000\n",
      "11.346939      10.000000\n",
      "6.535354       6.000000\n",
      "10.177885      14.000000\n",
      "5.638554       5.000000\n",
      "11.284404      11.000000\n",
      "5.638554       6.000000\n",
      "6.535354       5.000000\n"
     ]
    }
   ],
   "source": [
    "# Porównanie przykąłdowych wyników przewidywać i wyników zbioru testowego\n",
    "test_list = y_test[0:10].tolist()\n",
    "pred_list = tree.predict(x_test[0:10]).tolist()\n",
    "\n",
    "list = np.vstack((pred_list, test_list))\n",
    "print(\"{:<15s}{:>4s}\".format(\"Przewidywania\",\"Prawdziwe\"))\n",
    "for x, y in zip(*list):\n",
    "    print(\"{:<15f}{:>4f}\".format(x,y))"
   ]
  },
  {
   "cell_type": "code",
   "execution_count": 51,
   "id": "2064b294",
   "metadata": {},
   "outputs": [
    {
     "name": "stdout",
     "output_type": "stream",
     "text": [
      "Średni błąd:  2.40203\n"
     ]
    }
   ],
   "source": [
    "# Metric z biblioteki sklearn oraz sqrt z math posłużą do wyliczenia błędu\n",
    "from sklearn import metrics\n",
    "from math import sqrt\n",
    "\n",
    "\n",
    "# Wyliczenie średniej kwadratowej błędów (Root-mean-square deviation RMSD)\n",
    "print(\"Średni błąd: \", round(sqrt(metrics.mean_squared_error(y_test, y_prediction)), 5))"
   ]
  },
  {
   "cell_type": "code",
   "execution_count": 52,
   "id": "0ec4e269",
   "metadata": {},
   "outputs": [
    {
     "data": {
      "image/png": "[encoded data removed]",
      "text/plain": [
       "<Figure size 432x288 with 2 Axes>"
      ]
     },
     "metadata": {
      "needs_background": "light"
     },
     "output_type": "display_data"
    }
   ],
   "source": [
    "# Wykorzystanie wykresów punktowych do sprawdzenia poprawności przewidywań\n",
    "# Na wykresie zostały wykorzystane wartości Length i Diameter odpowiadające za długość i średnice Abalone\n",
    "\n",
    "# Wykres dla wartości przewidywanych\n",
    "import seaborn as sns\n",
    "cmap = sns.cubehelix_palette(as_cmap=True)\n",
    "f, ax = plt.subplots()\n",
    "points = ax.scatter(\n",
    "    x_test.values[:, 0], x_test.values[:, 1], c=y_prediction, s=50, cmap=cmap\n",
    ")\n",
    "f.colorbar(points)\n",
    "plt.title('Przewidywania')\n",
    "plt.show()"
   ]
  },
  {
   "cell_type": "code",
   "execution_count": 53,
   "id": "d9de1bad",
   "metadata": {},
   "outputs": [
    {
     "data": {
      "image/png": "[encoded data removed]",
      "text/plain": [
       "<Figure size 432x288 with 2 Axes>"
      ]
     },
     "metadata": {
      "needs_background": "light"
     },
     "output_type": "display_data"
    }
   ],
   "source": [
    "# Wykres dla wartości znanych z zbioru testowego \n",
    "cmap = sns.cubehelix_palette(as_cmap=True)\n",
    "f, ax = plt.subplots()\n",
    "points = ax.scatter(\n",
    "    x_test.values[:, 0], x_test.values[:, 1], c=y_test, s=50, cmap=cmap\n",
    ")\n",
    "f.colorbar(points)\n",
    "plt.title('Zbiór testowy')\n",
    "plt.show()"
   ]
  },
  {
   "cell_type": "code",
   "execution_count": 54,
   "id": "cbacfa62",
   "metadata": {},
   "outputs": [
    {
     "data": {
      "text/plain": [
       "Length            0.556720\n",
       "Diameter          0.574660\n",
       "Height            0.557467\n",
       "Whole weight      0.540390\n",
       "Shucked weight    0.420884\n",
       "Viscera weight    0.503819\n",
       "Shell weight      0.627574\n",
       "Rings             1.000000\n",
       "Name: Rings, dtype: float64"
      ]
     },
     "execution_count": 54,
     "metadata": {},
     "output_type": "execute_result"
    }
   ],
   "source": [
    "# Szukanie korelacji w celu polepszenia wyniku\n",
    "correlation_matrix = new_data.corr()\n",
    "correlation_matrix[\"Rings\"]"
   ]
  },
  {
   "cell_type": "code",
   "execution_count": 55,
   "id": "afc9eb6b",
   "metadata": {},
   "outputs": [
    {
     "name": "stdout",
     "output_type": "stream",
     "text": [
      "Głębokość  5\n"
     ]
    },
    {
     "data": {
      "image/png": "[encoded data removed]",
      "text/plain": [
       "<Figure size 864x432 with 1 Axes>"
      ]
     },
     "metadata": {
      "needs_background": "light"
     },
     "output_type": "display_data"
    }
   ],
   "source": [
    "# Szukanie optymalnego głębokości drzewa w celu osiągnięcia najlepszych wyników\n",
    "# W tym celu podstawiane są wartości od 1 do 30 pod wartość max_depth oznaczającą maksymalną głębokość drzewa.\n",
    "# Wyliczany jest RMSD w celu określenia jakości, im mniejszy błąd tym lepszy wynik\n",
    "error = []\n",
    "for i in range(1, 30):\n",
    "    tree = DecisionTreeRegressor(max_depth=i)\n",
    "    train = tree.fit(x_train, y_train)\n",
    "    y_pred_i = tree.predict(x_test)\n",
    "    error.append(round(sqrt(metrics.mean_squared_error(y_test, y_pred_i)), 5))\n",
    "\n",
    "plt.figure(figsize=(12, 6))\n",
    "plt.plot(range(1, 30), error, marker='o', markersize=5)\n",
    "plt.title('Optymalna głębokość drzewa')\n",
    "plt.xlabel('Głębokość')\n",
    "plt.ylabel('Błąd')\n",
    "\n",
    "print(\"Głębokość \", np.argmin(error) + 1)"
   ]
  },
  {
   "cell_type": "code",
   "execution_count": 56,
   "id": "3985fd7f",
   "metadata": {},
   "outputs": [],
   "source": [
    "# Krzywa uczenia obrazująca dopasowanie modelu treningowego \n",
    "data_percentage_array = np.linspace(10, 100, 10)\n",
    "train_error = []\n",
    "test_error = []\n",
    "for data_percentage in data_percentage_array:\n",
    "    model = DecisionTreeRegressor(max_depth=5)\n",
    "    number_of_samples = int(data_percentage / 100. * len(y_train))\n",
    "    model.fit(x_train.values[:number_of_samples,:], y_train.values[:number_of_samples])\n",
    "\n",
    "    predicted_train_y = model.predict(x_train)\n",
    "    predicted_test_y = model.predict(x_test)\n",
    "\n",
    "    train_error.append((predicted_train_y - y_train).std())\n",
    "    test_error.append((predicted_test_y - y_test).std())\n"
   ]
  },
  {
   "cell_type": "code",
   "execution_count": 57,
   "id": "627ddfdb",
   "metadata": {},
   "outputs": [
    {
     "data": {
      "text/plain": [
       "Text(0, 0.5, 'Błąd')"
      ]
     },
     "execution_count": 57,
     "metadata": {},
     "output_type": "execute_result"
    },
    {
     "data": {
      "image/png": "[encoded data removed]",
      "text/plain": [
       "<Figure size 432x288 with 1 Axes>"
      ]
     },
     "metadata": {
      "needs_background": "light"
     },
     "output_type": "display_data"
    }
   ],
   "source": [
    "# Rysowanie wykresu krzywej uczenia\n",
    "plt.plot(data_percentage_array, train_error, label='Trening')\n",
    "plt.plot(data_percentage_array, test_error, label='Walidacja')\n",
    "plt.grid()\n",
    "plt.legend(loc=3)\n",
    "plt.xlabel('Procent')\n",
    "plt.ylabel('Błąd')\n"
   ]
  },
  {
   "cell_type": "markdown",
   "id": "38c45fc2",
   "metadata": {},
   "source": [
    "Wnioski</br> \n",
    "Metoda drzew decyzyjnych jest powszechnie stosowaną metodą eksploracji danych używana między innymi do opracowywania algorytmów predykcyjnych dla zmiennej docelowej. Jest to nieparametryczny algorytm, który dzieli populację na podobne do gałęzi segmenty, które tworzą odwrócone drzewo z węzłem głównym, węzłami wewnętrznymi i węzłami liści. \n",
    "Na początku swoim modelu otrzymałem wynik na poziomie 7%, co było spowodowane brakiem zadeklarowanej początkowej wartości głębokości drzewa w modelu. Po ustawieniu tej wartości na 10 otrzymałem wynik na poziomie 26% co było znaczną poprawą, lecz nadal dość kiepskim wynikiem. W celu dalszego zwiekszenia poprawności wyszukałem korelacji między atrybutami, lecz w moim zestawie danych żaden atrybut nie posiadał korelacji przekraczającej chociaż 70%, zatem nie usuwałem żadnych atrybutów. Następnie skupiłem się na parametrze głębokości drzewa, który w poprzednim przypadku zwiekszył poprawność modelu o 19%. Przetestowałem model zmieniając parametr max_depth w zakresie od 1 do 30, za miarodajność testu wykorzystałem wartość średniego kwadratu błędu (RMSD). Najlepsze wyniki otrzymałem dla max_depth = 5, gdzie RMSD osiągnęło wynik 2.4, co można interpretować, że mój model przewidując wiek może pomylić się o 2.4 lata. Poprawność modelu osiągnęła zaskakujące 44%. Do sprawdzenia miarodajnośći przewidywań wykorzystałem również wykresy punktowe, widnieją na nich zależność długości oraz średnicy Abalona do ich wieku, im wiekszy Abalon tym starszy osobnik i posiada więcej kręgów, im młodszy tym mniejszy. Wykresy dla wartości przewidywanych oraz wiadomych są do siebie bardzo podobne co może świadczyć o dość dobrej trafności przewidywać pomimo poprawności modelu w wysokości 44%. Z czego można wywnioskować, że w przypadku regresii procentowy wynik wytrenowania modelu nie jest aż tak istotny. Wykonałem również wykres krzywej uczącej na którym widać, że wraz z uczeniem się model osiągał coraz mniejszy błąd, można również zauważyć dość sporą przerwę między liniami w okolicy 40%, która dalej tylko się powieksza, może to świadczyć o gorszym dopasowaniu modelu. "
   ]
  },
  {
   "cell_type": "code",
   "execution_count": null,
   "id": "9ec7f868",
   "metadata": {},
   "outputs": [],
   "source": []
  },
  {
   "cell_type": "code",
   "execution_count": null,
   "id": "bbe9bdf3",
   "metadata": {},
   "outputs": [],
   "source": []
  }
 ],
 "metadata": {
  "kernelspec": {
   "display_name": "Python 3 (ipykernel)",
   "language": "python",
   "name": "python3"
  },
  "language_info": {
   "codemirror_mode": {
    "name": "ipython",
    "version": 3
   },
   "file_extension": ".py",
   "mimetype": "text/x-python",
   "name": "python",
   "nbconvert_exporter": "python",
   "pygments_lexer": "ipython3",
   "version": "3.9.7"
  }
 },
 "nbformat": 4,
 "nbformat_minor": 5
}
